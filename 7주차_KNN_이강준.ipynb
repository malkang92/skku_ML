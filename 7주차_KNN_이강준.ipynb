{
  "cells": [
    {
      "cell_type": "markdown",
      "metadata": {
        "id": "view-in-github",
        "colab_type": "text"
      },
      "source": [
        "<a href=\"https://colab.research.google.com/github/malkang92/skku_ML/blob/main/7%EC%A3%BC%EC%B0%A8_KNN_%EC%9D%B4%EA%B0%95%EC%A4%80.ipynb\" target=\"_parent\"><img src=\"https://colab.research.google.com/assets/colab-badge.svg\" alt=\"Open In Colab\"/></a>"
      ]
    },
    {
      "cell_type": "code",
      "source": [
        "from google.colab import drive\n",
        "drive.mount('/content/drive', force_remount=True)"
      ],
      "metadata": {
        "id": "2y6qa4luIveC"
      },
      "execution_count": null,
      "outputs": []
    },
    {
      "cell_type": "code",
      "execution_count": null,
      "metadata": {
        "id": "swnfIjQA3OLi"
      },
      "outputs": [],
      "source": [
        "# 코랩 탭의 새로운 파일구조 내에서 위에서 복제한 실습 자료가 있는 폴더로 이동.\n",
        "%cd /content/drive/MyDrive/SKKU폴더/25_하반기_06.기계학습특론/exercise"
      ]
    },
    {
      "cell_type": "markdown",
      "metadata": {
        "id": "CLmS9bD_p3gV"
      },
      "source": [
        "# k-최근접 이웃 (k-Nearest Neighbor) (실습)\n",
        "\n",
        "### [1] 실습 진행 관련 설명\n",
        "k-최근접 이웃에 대한 실습을 진행하고자 한다. 실습은 크게 두가지로 구성되어 있다.\n",
        "\n",
        "- sklearn 라이브러리를 이용한 방법\n",
        "- 직접 함수를 구현하는 방법\n",
        "\n",
        "처음에는 sklearn 라이브러리를 이용한 방법을 실습하고 그 이후에 직접 함수를 구현하여 실습을 진행한다."
      ]
    },
    {
      "cell_type": "markdown",
      "metadata": {
        "id": "YBJH39wWqm0T"
      },
      "source": [
        "## [2] 코드 구현의 흐름\n",
        "\n",
        "\n",
        "- (1) (데이터 측면) 데이터 불러오기\n",
        "\n",
        "- (2) (데이터 측면) 데이터에서 사용할 성분 추출하기\n",
        "\n",
        "- (3) (모델 측면) sklearn 라이브러리를 이용하여 k-최근접이웃 불러오기. 또는 직접 함수 구현하기 (K-최근접이웃 모델 정의).\n",
        "\n",
        "- (4) (학습 과정) sklearn 라이브러리를 이용하여 알고리즘 수행하기. 또는 직접 구현하기 (k의 값에 따라).\n",
        "\n",
        "- (5) (성능 평가) 테스트 데이터를 이용하여 결과에 대한 성능 평가하기 및 최적의 k 찾기. (Accuracy)"
      ]
    },
    {
      "cell_type": "markdown",
      "metadata": {
        "id": "skGHBA2iG5Gv"
      },
      "source": [
        "## (공통) 데이터 불러오기\n",
        "\n",
        "\n"
      ]
    },
    {
      "cell_type": "code",
      "execution_count": null,
      "metadata": {
        "id": "u2UPtJ_NHTWA"
      },
      "outputs": [],
      "source": [
        "import pandas as pd\n",
        "import matplotlib.pyplot as pl"
      ]
    },
    {
      "cell_type": "code",
      "source": [
        "import pandas as pd\n",
        "import matplotlib.pyplot as plt"
      ],
      "metadata": {
        "id": "YaAhe16fz9Ny"
      },
      "execution_count": null,
      "outputs": []
    },
    {
      "cell_type": "code",
      "execution_count": 4,
      "metadata": {
        "colab": {
          "base_uri": "https://localhost:8080/"
        },
        "id": "TBrl3ekTG0IC",
        "outputId": "6bad3118-182d-4400-bf18-a926fb298512"
      },
      "outputs": [
        {
          "output_type": "stream",
          "name": "stdout",
          "text": [
            "    Unnamed: 0            Player Pos   3P  TRB  BLK\n",
            "0           26   Wayne Ellington  SG  2.4  2.1  0.1\n",
            "1           86      Nik Stauskas  SG  1.7  2.8  0.4\n",
            "2           60          Alex Len   C  0.0  6.6  1.3\n",
            "3           45       Buddy Hield  SG  1.8  3.3  0.1\n",
            "4           68       Jodie Meeks  SG  1.6  2.1  0.1\n",
            "..         ...               ...  ..  ...  ...  ...\n",
            "75          82        J.R. Smith  SG  2.3  2.8  0.3\n",
            "76           5     Nicolas Batum  SG  1.8  6.2  0.4\n",
            "77          40  Montrezl Harrell   C  0.0  3.8  0.7\n",
            "78          22      Troy Daniels  SG  2.1  1.5  0.1\n",
            "79          43       John Henson   C  0.0  5.1  1.3\n",
            "\n",
            "[80 rows x 6 columns]\n"
          ]
        }
      ],
      "source": [
        "# (1) (데이터 측면)데이터 불러오기\n",
        "# train 데이터용 파일과 test 데이터용 파일이 분리되어 있다.\n",
        "# 각각 데이터를 불러온다.\n",
        "train = pd.read_csv('/content/drive/MyDrive/SKKU폴더/25_하반기_06.기계학습특론/exercise/basketball_train.csv')\n",
        "test = pd.read_csv('/content/drive/MyDrive/SKKU폴더/25_하반기_06.기계학습특론/exercise/basketball_test.csv')\n",
        "print(train)\n",
        "\n",
        "#아래 출력 결과를 통해 이번 실습에서 사용할 데이터를 확인해보자.\n",
        "#전체 데이터의 개수는 몇개인지?"
      ]
    },
    {
      "cell_type": "code",
      "source": [
        "len(train)"
      ],
      "metadata": {
        "colab": {
          "base_uri": "https://localhost:8080/"
        },
        "id": "bdEFASfa1So8",
        "outputId": "16bb431e-88cb-4a8a-9656-404d5f447a75"
      },
      "execution_count": 11,
      "outputs": [
        {
          "output_type": "execute_result",
          "data": {
            "text/plain": [
              "80"
            ]
          },
          "metadata": {},
          "execution_count": 11
        }
      ]
    },
    {
      "cell_type": "code",
      "source": [
        "train.head()"
      ],
      "metadata": {
        "colab": {
          "base_uri": "https://localhost:8080/",
          "height": 221
        },
        "id": "C7vuHelQ0K-V",
        "outputId": "040be0b1-fc8c-46eb-824b-a87f10a900b1"
      },
      "execution_count": 7,
      "outputs": [
        {
          "output_type": "execute_result",
          "data": {
            "text/plain": [
              "   Unnamed: 0           Player Pos   3P  TRB  BLK\n",
              "0          26  Wayne Ellington  SG  2.4  2.1  0.1\n",
              "1          86     Nik Stauskas  SG  1.7  2.8  0.4\n",
              "2          60         Alex Len   C  0.0  6.6  1.3\n",
              "3          45      Buddy Hield  SG  1.8  3.3  0.1\n",
              "4          68      Jodie Meeks  SG  1.6  2.1  0.1"
            ],
            "text/html": [
              "\n",
              "  <div id=\"df-42306d67-a506-4eae-92cd-8d8a58794646\" class=\"colab-df-container\">\n",
              "    <div>\n",
              "<style scoped>\n",
              "    .dataframe tbody tr th:only-of-type {\n",
              "        vertical-align: middle;\n",
              "    }\n",
              "\n",
              "    .dataframe tbody tr th {\n",
              "        vertical-align: top;\n",
              "    }\n",
              "\n",
              "    .dataframe thead th {\n",
              "        text-align: right;\n",
              "    }\n",
              "</style>\n",
              "<table border=\"1\" class=\"dataframe\">\n",
              "  <thead>\n",
              "    <tr style=\"text-align: right;\">\n",
              "      <th></th>\n",
              "      <th>Unnamed: 0</th>\n",
              "      <th>Player</th>\n",
              "      <th>Pos</th>\n",
              "      <th>3P</th>\n",
              "      <th>TRB</th>\n",
              "      <th>BLK</th>\n",
              "    </tr>\n",
              "  </thead>\n",
              "  <tbody>\n",
              "    <tr>\n",
              "      <th>0</th>\n",
              "      <td>26</td>\n",
              "      <td>Wayne Ellington</td>\n",
              "      <td>SG</td>\n",
              "      <td>2.4</td>\n",
              "      <td>2.1</td>\n",
              "      <td>0.1</td>\n",
              "    </tr>\n",
              "    <tr>\n",
              "      <th>1</th>\n",
              "      <td>86</td>\n",
              "      <td>Nik Stauskas</td>\n",
              "      <td>SG</td>\n",
              "      <td>1.7</td>\n",
              "      <td>2.8</td>\n",
              "      <td>0.4</td>\n",
              "    </tr>\n",
              "    <tr>\n",
              "      <th>2</th>\n",
              "      <td>60</td>\n",
              "      <td>Alex Len</td>\n",
              "      <td>C</td>\n",
              "      <td>0.0</td>\n",
              "      <td>6.6</td>\n",
              "      <td>1.3</td>\n",
              "    </tr>\n",
              "    <tr>\n",
              "      <th>3</th>\n",
              "      <td>45</td>\n",
              "      <td>Buddy Hield</td>\n",
              "      <td>SG</td>\n",
              "      <td>1.8</td>\n",
              "      <td>3.3</td>\n",
              "      <td>0.1</td>\n",
              "    </tr>\n",
              "    <tr>\n",
              "      <th>4</th>\n",
              "      <td>68</td>\n",
              "      <td>Jodie Meeks</td>\n",
              "      <td>SG</td>\n",
              "      <td>1.6</td>\n",
              "      <td>2.1</td>\n",
              "      <td>0.1</td>\n",
              "    </tr>\n",
              "  </tbody>\n",
              "</table>\n",
              "</div>\n",
              "    <div class=\"colab-df-buttons\">\n",
              "\n",
              "  <div class=\"colab-df-container\">\n",
              "    <button class=\"colab-df-convert\" onclick=\"convertToInteractive('df-42306d67-a506-4eae-92cd-8d8a58794646')\"\n",
              "            title=\"Convert this dataframe to an interactive table.\"\n",
              "            style=\"display:none;\">\n",
              "\n",
              "  <svg xmlns=\"http://www.w3.org/2000/svg\" height=\"24px\" viewBox=\"0 -960 960 960\">\n",
              "    <path d=\"M120-120v-720h720v720H120Zm60-500h600v-160H180v160Zm220 220h160v-160H400v160Zm0 220h160v-160H400v160ZM180-400h160v-160H180v160Zm440 0h160v-160H620v160ZM180-180h160v-160H180v160Zm440 0h160v-160H620v160Z\"/>\n",
              "  </svg>\n",
              "    </button>\n",
              "\n",
              "  <style>\n",
              "    .colab-df-container {\n",
              "      display:flex;\n",
              "      gap: 12px;\n",
              "    }\n",
              "\n",
              "    .colab-df-convert {\n",
              "      background-color: #E8F0FE;\n",
              "      border: none;\n",
              "      border-radius: 50%;\n",
              "      cursor: pointer;\n",
              "      display: none;\n",
              "      fill: #1967D2;\n",
              "      height: 32px;\n",
              "      padding: 0 0 0 0;\n",
              "      width: 32px;\n",
              "    }\n",
              "\n",
              "    .colab-df-convert:hover {\n",
              "      background-color: #E2EBFA;\n",
              "      box-shadow: 0px 1px 2px rgba(60, 64, 67, 0.3), 0px 1px 3px 1px rgba(60, 64, 67, 0.15);\n",
              "      fill: #174EA6;\n",
              "    }\n",
              "\n",
              "    .colab-df-buttons div {\n",
              "      margin-bottom: 4px;\n",
              "    }\n",
              "\n",
              "    [theme=dark] .colab-df-convert {\n",
              "      background-color: #3B4455;\n",
              "      fill: #D2E3FC;\n",
              "    }\n",
              "\n",
              "    [theme=dark] .colab-df-convert:hover {\n",
              "      background-color: #434B5C;\n",
              "      box-shadow: 0px 1px 3px 1px rgba(0, 0, 0, 0.15);\n",
              "      filter: drop-shadow(0px 1px 2px rgba(0, 0, 0, 0.3));\n",
              "      fill: #FFFFFF;\n",
              "    }\n",
              "  </style>\n",
              "\n",
              "    <script>\n",
              "      const buttonEl =\n",
              "        document.querySelector('#df-42306d67-a506-4eae-92cd-8d8a58794646 button.colab-df-convert');\n",
              "      buttonEl.style.display =\n",
              "        google.colab.kernel.accessAllowed ? 'block' : 'none';\n",
              "\n",
              "      async function convertToInteractive(key) {\n",
              "        const element = document.querySelector('#df-42306d67-a506-4eae-92cd-8d8a58794646');\n",
              "        const dataTable =\n",
              "          await google.colab.kernel.invokeFunction('convertToInteractive',\n",
              "                                                    [key], {});\n",
              "        if (!dataTable) return;\n",
              "\n",
              "        const docLinkHtml = 'Like what you see? Visit the ' +\n",
              "          '<a target=\"_blank\" href=https://colab.research.google.com/notebooks/data_table.ipynb>data table notebook</a>'\n",
              "          + ' to learn more about interactive tables.';\n",
              "        element.innerHTML = '';\n",
              "        dataTable['output_type'] = 'display_data';\n",
              "        await google.colab.output.renderOutput(dataTable, element);\n",
              "        const docLink = document.createElement('div');\n",
              "        docLink.innerHTML = docLinkHtml;\n",
              "        element.appendChild(docLink);\n",
              "      }\n",
              "    </script>\n",
              "  </div>\n",
              "\n",
              "\n",
              "    <div id=\"df-7d44bc2b-7054-45a7-8d2b-549b041e7afd\">\n",
              "      <button class=\"colab-df-quickchart\" onclick=\"quickchart('df-7d44bc2b-7054-45a7-8d2b-549b041e7afd')\"\n",
              "                title=\"Suggest charts\"\n",
              "                style=\"display:none;\">\n",
              "\n",
              "<svg xmlns=\"http://www.w3.org/2000/svg\" height=\"24px\"viewBox=\"0 0 24 24\"\n",
              "     width=\"24px\">\n",
              "    <g>\n",
              "        <path d=\"M19 3H5c-1.1 0-2 .9-2 2v14c0 1.1.9 2 2 2h14c1.1 0 2-.9 2-2V5c0-1.1-.9-2-2-2zM9 17H7v-7h2v7zm4 0h-2V7h2v10zm4 0h-2v-4h2v4z\"/>\n",
              "    </g>\n",
              "</svg>\n",
              "      </button>\n",
              "\n",
              "<style>\n",
              "  .colab-df-quickchart {\n",
              "      --bg-color: #E8F0FE;\n",
              "      --fill-color: #1967D2;\n",
              "      --hover-bg-color: #E2EBFA;\n",
              "      --hover-fill-color: #174EA6;\n",
              "      --disabled-fill-color: #AAA;\n",
              "      --disabled-bg-color: #DDD;\n",
              "  }\n",
              "\n",
              "  [theme=dark] .colab-df-quickchart {\n",
              "      --bg-color: #3B4455;\n",
              "      --fill-color: #D2E3FC;\n",
              "      --hover-bg-color: #434B5C;\n",
              "      --hover-fill-color: #FFFFFF;\n",
              "      --disabled-bg-color: #3B4455;\n",
              "      --disabled-fill-color: #666;\n",
              "  }\n",
              "\n",
              "  .colab-df-quickchart {\n",
              "    background-color: var(--bg-color);\n",
              "    border: none;\n",
              "    border-radius: 50%;\n",
              "    cursor: pointer;\n",
              "    display: none;\n",
              "    fill: var(--fill-color);\n",
              "    height: 32px;\n",
              "    padding: 0;\n",
              "    width: 32px;\n",
              "  }\n",
              "\n",
              "  .colab-df-quickchart:hover {\n",
              "    background-color: var(--hover-bg-color);\n",
              "    box-shadow: 0 1px 2px rgba(60, 64, 67, 0.3), 0 1px 3px 1px rgba(60, 64, 67, 0.15);\n",
              "    fill: var(--button-hover-fill-color);\n",
              "  }\n",
              "\n",
              "  .colab-df-quickchart-complete:disabled,\n",
              "  .colab-df-quickchart-complete:disabled:hover {\n",
              "    background-color: var(--disabled-bg-color);\n",
              "    fill: var(--disabled-fill-color);\n",
              "    box-shadow: none;\n",
              "  }\n",
              "\n",
              "  .colab-df-spinner {\n",
              "    border: 2px solid var(--fill-color);\n",
              "    border-color: transparent;\n",
              "    border-bottom-color: var(--fill-color);\n",
              "    animation:\n",
              "      spin 1s steps(1) infinite;\n",
              "  }\n",
              "\n",
              "  @keyframes spin {\n",
              "    0% {\n",
              "      border-color: transparent;\n",
              "      border-bottom-color: var(--fill-color);\n",
              "      border-left-color: var(--fill-color);\n",
              "    }\n",
              "    20% {\n",
              "      border-color: transparent;\n",
              "      border-left-color: var(--fill-color);\n",
              "      border-top-color: var(--fill-color);\n",
              "    }\n",
              "    30% {\n",
              "      border-color: transparent;\n",
              "      border-left-color: var(--fill-color);\n",
              "      border-top-color: var(--fill-color);\n",
              "      border-right-color: var(--fill-color);\n",
              "    }\n",
              "    40% {\n",
              "      border-color: transparent;\n",
              "      border-right-color: var(--fill-color);\n",
              "      border-top-color: var(--fill-color);\n",
              "    }\n",
              "    60% {\n",
              "      border-color: transparent;\n",
              "      border-right-color: var(--fill-color);\n",
              "    }\n",
              "    80% {\n",
              "      border-color: transparent;\n",
              "      border-right-color: var(--fill-color);\n",
              "      border-bottom-color: var(--fill-color);\n",
              "    }\n",
              "    90% {\n",
              "      border-color: transparent;\n",
              "      border-bottom-color: var(--fill-color);\n",
              "    }\n",
              "  }\n",
              "</style>\n",
              "\n",
              "      <script>\n",
              "        async function quickchart(key) {\n",
              "          const quickchartButtonEl =\n",
              "            document.querySelector('#' + key + ' button');\n",
              "          quickchartButtonEl.disabled = true;  // To prevent multiple clicks.\n",
              "          quickchartButtonEl.classList.add('colab-df-spinner');\n",
              "          try {\n",
              "            const charts = await google.colab.kernel.invokeFunction(\n",
              "                'suggestCharts', [key], {});\n",
              "          } catch (error) {\n",
              "            console.error('Error during call to suggestCharts:', error);\n",
              "          }\n",
              "          quickchartButtonEl.classList.remove('colab-df-spinner');\n",
              "          quickchartButtonEl.classList.add('colab-df-quickchart-complete');\n",
              "        }\n",
              "        (() => {\n",
              "          let quickchartButtonEl =\n",
              "            document.querySelector('#df-7d44bc2b-7054-45a7-8d2b-549b041e7afd button');\n",
              "          quickchartButtonEl.style.display =\n",
              "            google.colab.kernel.accessAllowed ? 'block' : 'none';\n",
              "        })();\n",
              "      </script>\n",
              "    </div>\n",
              "\n",
              "    </div>\n",
              "  </div>\n"
            ],
            "application/vnd.google.colaboratory.intrinsic+json": {
              "type": "dataframe",
              "variable_name": "train",
              "summary": "{\n  \"name\": \"train\",\n  \"rows\": 80,\n  \"fields\": [\n    {\n      \"column\": \"Unnamed: 0\",\n      \"properties\": {\n        \"dtype\": \"number\",\n        \"std\": 28,\n        \"min\": 0,\n        \"max\": 98,\n        \"num_unique_values\": 80,\n        \"samples\": [\n          72,\n          26,\n          35\n        ],\n        \"semantic_type\": \"\",\n        \"description\": \"\"\n      }\n    },\n    {\n      \"column\": \"Player\",\n      \"properties\": {\n        \"dtype\": \"string\",\n        \"num_unique_values\": 80,\n        \"samples\": [\n          \"Jamal Murray\",\n          \"Wayne Ellington\",\n          \"Marcin Gortat\"\n        ],\n        \"semantic_type\": \"\",\n        \"description\": \"\"\n      }\n    },\n    {\n      \"column\": \"Pos\",\n      \"properties\": {\n        \"dtype\": \"category\",\n        \"num_unique_values\": 2,\n        \"samples\": [\n          \"C\",\n          \"SG\"\n        ],\n        \"semantic_type\": \"\",\n        \"description\": \"\"\n      }\n    },\n    {\n      \"column\": \"3P\",\n      \"properties\": {\n        \"dtype\": \"number\",\n        \"std\": 0.9193687639084941,\n        \"min\": 0.0,\n        \"max\": 3.4,\n        \"num_unique_values\": 21,\n        \"samples\": [\n          2.4,\n          0.9\n        ],\n        \"semantic_type\": \"\",\n        \"description\": \"\"\n      }\n    },\n    {\n      \"column\": \"TRB\",\n      \"properties\": {\n        \"dtype\": \"number\",\n        \"std\": 3.2668637458849146,\n        \"min\": 1.3,\n        \"max\": 14.1,\n        \"num_unique_values\": 55,\n        \"samples\": [\n          3.9,\n          4.7\n        ],\n        \"semantic_type\": \"\",\n        \"description\": \"\"\n      }\n    },\n    {\n      \"column\": \"BLK\",\n      \"properties\": {\n        \"dtype\": \"number\",\n        \"std\": 0.5849037029906309,\n        \"min\": 0.1,\n        \"max\": 2.6,\n        \"num_unique_values\": 18,\n        \"samples\": [\n          0.1,\n          0.4\n        ],\n        \"semantic_type\": \"\",\n        \"description\": \"\"\n      }\n    }\n  ]\n}"
            }
          },
          "metadata": {},
          "execution_count": 7
        }
      ]
    },
    {
      "cell_type": "code",
      "execution_count": null,
      "metadata": {
        "id": "jNzSy0stHLOh"
      },
      "outputs": [],
      "source": [
        "# (2) (데이터 측면)데이터에서 사용할 성분 추출하기\n",
        "# 오늘 실습은 SG(슈팅가드)포지션과 C(센터)포지션을 분류하는 실습을 진행한다\n",
        "# Pos : 포지션, 3P : 3점슛, TRB : 리바운드, BLK : 블락\n",
        "# 농구에서 두 포지션의 가장 큰 차이는 3점슛의 여부와 블락 여부이다.\n",
        "# 배경지식 : 일반적으로 SG포지션은 3P수치가 높고, C포지션은 BLK 수치가 높다.\n",
        "x_train = train[['3P', 'BLK']]\n",
        "y_train = train[['Pos']]\n",
        "x_test = test[['3P', 'BLK']]\n",
        "y_test = test[['Pos']]"
      ]
    },
    {
      "cell_type": "code",
      "source": [
        "x_train = train[['3P', 'BLK']]\n",
        "y_train = train[['Pos']]\n",
        "x_test = test[['3P', 'BLK']]\n",
        "y_test = test[['Pos']]"
      ],
      "metadata": {
        "id": "vR6xh14O0nAA"
      },
      "execution_count": 10,
      "outputs": []
    },
    {
      "cell_type": "code",
      "execution_count": null,
      "metadata": {
        "id": "lLXqvqbIGZMH"
      },
      "outputs": [],
      "source": [
        "import matplotlib.pyplot as plt\n",
        "\n",
        "# (2-1) 학습데이터 시각화\n",
        "def plot_knn(feature, label, test_feature):\n",
        "    plt.title('kNN')\n",
        "    plt.plot(feature[label==\"SG\"][\"3P\"], feature[label==\"SG\"][\"BLK\"],'o', c=\"blue\", label=\"SG\") #학습데이터 중 SG 데이터를 파란색으로 시각화\n",
        "    plt.plot(feature[label==\"C\"][\"3P\"], feature[label==\"C\"][\"BLK\"],'o', c=\"red\", label=\"C\")     #학습데이터 중 C 데이터를 빨간색으로 시각화\n",
        "    plt.plot(test_feature[:][\"3P\"], test_feature[:][\"BLK\"],'o', c=\"gray\", label=\"test_data\")    #테스트 데이터는 회색으로 시각화\n",
        "    plt.tight_layout()\n",
        "    plt.xlabel(\"3P\")   # x축 표시\n",
        "    plt.ylabel(\"BLK\")  # y축 표시\n",
        "    plt.legend()\n",
        "    plt.show()\n",
        "plot_knn(x_train, y_train.values.ravel(), x_test)"
      ]
    },
    {
      "cell_type": "code",
      "source": [
        "print(y_train.values.ravel())\n",
        "print(y_train.values.ravel().shape)"
      ],
      "metadata": {
        "colab": {
          "base_uri": "https://localhost:8080/"
        },
        "id": "1HXfV0II2exL",
        "outputId": "ef7233a4-e855-44f6-feab-824c3626aa99"
      },
      "execution_count": 15,
      "outputs": [
        {
          "output_type": "stream",
          "name": "stdout",
          "text": [
            "['SG' 'SG' 'C' 'SG' 'SG' 'C' 'C' 'C' 'C' 'C' 'SG' 'C' 'SG' 'C' 'SG' 'C'\n",
            " 'SG' 'SG' 'C' 'C' 'C' 'SG' 'C' 'C' 'SG' 'SG' 'SG' 'C' 'C' 'SG' 'SG' 'C'\n",
            " 'SG' 'C' 'SG' 'C' 'SG' 'SG' 'C' 'C' 'C' 'C' 'SG' 'C' 'SG' 'C' 'C' 'C'\n",
            " 'SG' 'C' 'C' 'C' 'C' 'C' 'C' 'SG' 'SG' 'SG' 'SG' 'SG' 'SG' 'SG' 'SG' 'C'\n",
            " 'SG' 'SG' 'C' 'C' 'SG' 'SG' 'C' 'C' 'C' 'C' 'C' 'SG' 'SG' 'C' 'SG' 'C']\n",
            "(80,)\n"
          ]
        }
      ]
    },
    {
      "cell_type": "code",
      "source": [
        "#feature = x_train\n",
        "#label = y_train.values.ravel()\n",
        "#test_feature = x_test\n",
        "\n",
        "def plot_knn(feature, label, test_feature):\n",
        "  plt.title('kNN')\n",
        "  plt.plot(feature[label==\"SG\"][\"3P\"], feature[label==\"SG\"][\"BLK\"], 'o', c=\"blue\", label=\"SG\")\n",
        "  plt.plot(feature[label==\"C\"][\"3P\"], feature[label==\"C\"][\"BLK\"], 'o', c=\"red\", label=\"C\")\n",
        "  plt.plot(test_feature[:][\"3P\"], test_feature[:][\"BLK\"], 'o', c=\"gray\", label=\"test_data\")\n",
        "  plt.tight_layout()\n",
        "  plt.xlabel(\"3P\")\n",
        "  plt.ylabel(\"BLK\")\n",
        "  plt.legend()\n",
        "  plt.show()\n",
        "\n",
        "plot_knn(x_train, y_train.values.ravel(), x_test)"
      ],
      "metadata": {
        "colab": {
          "base_uri": "https://localhost:8080/",
          "height": 526
        },
        "id": "cMr51k1d1XYi",
        "outputId": "adbdbd55-95f3-460e-9693-1dc0c9512ee9"
      },
      "execution_count": 16,
      "outputs": [
        {
          "output_type": "display_data",
          "data": {
            "text/plain": [
              "<Figure size 640x480 with 1 Axes>"
            ],
            "image/png": "[encoded data removed]"
          },
          "metadata": {}
        }
      ]
    },
    {
      "cell_type": "markdown",
      "metadata": {
        "id": "Fofx1AL8zEvw"
      },
      "source": [
        "## (첫번째 실습) sklearn 라이브러리를 이용한 방법\n",
        "\n",
        "\n"
      ]
    },
    {
      "cell_type": "code",
      "execution_count": null,
      "metadata": {
        "id": "qJpRs4Dxng7_"
      },
      "outputs": [],
      "source": [
        "# k-최근접 이웃(k-nearest Neighbor)\n",
        "\n",
        "# 라이브러리 불러오기 (Importing the libraries)\n",
        "from sklearn.neighbors import KNeighborsClassifier #kNN알고리즘\n",
        "from sklearn.metrics import accuracy_score         #정확도측정\n",
        "import numpy as np\n",
        "\n",
        "\n",
        "# (3) (모델 측면) sklearn 라이브러리를 이용하여 k-최근접이웃 불러오기 (k=1)\n",
        "knn = KNeighborsClassifier(n_neighbors=1) #n_neighbors는 이론에서 배운 k를 의미한다.\n",
        "knn.fit(x_train, y_train.values.ravel())  #values.ravel() -> 데이터에서 index 정보와 pos정보를 제외한 값(values)만을 추출한다.\n",
        "\n",
        "# (4) (학습 과정) sklearn 라이브러리를 이용하여 알고리즘 수행하기.\n",
        "y_pred_1 = knn.predict(x_test)\n",
        "# (5) (성능 평가) 테스트 데이터를 이용하여 결과에 대한 성능 평가하기.\n",
        "accuracy_score(y_test, y_pred_1)"
      ]
    },
    {
      "cell_type": "code",
      "source": [
        "from sklearn.neighbors import KNeighborsClassifier\n",
        "from sklearn.metrics import accuracy_score\n",
        "import numpy as np\n",
        "\n",
        "knn = KNeighborsClassifier(n_neighbors=3)\n",
        "knn.fit(x_train, y_train.values.ravel())\n",
        "\n",
        "y_pred_1 = knn.predict(x_test)\n",
        "\n",
        "accuracy_score(y_test, y_pred_1)"
      ],
      "metadata": {
        "colab": {
          "base_uri": "https://localhost:8080/"
        },
        "id": "L6xZnUpW237z",
        "outputId": "991486de-931d-4c54-bbb6-4cc39ffa36c7"
      },
      "execution_count": 23,
      "outputs": [
        {
          "output_type": "execute_result",
          "data": {
            "text/plain": [
              "0.9"
            ]
          },
          "metadata": {},
          "execution_count": 23
        }
      ]
    },
    {
      "cell_type": "code",
      "execution_count": null,
      "metadata": {
        "id": "cYV1y-huIkMS"
      },
      "outputs": [],
      "source": [
        "# (5-2) (성능 평가) 최적의 k 찾기\n",
        "max_val = 0\n",
        "max_k = 0\n",
        "for i in range(1,10,2): # 1부터 10까지 수를 +2씩 증가시키며(1,3,5,7,9)\n",
        "    knn = KNeighborsClassifier(n_neighbors=i) # k의 값에 따른 결과값을 확인한다\n",
        "    knn.fit(x_train, y_train.values.ravel())\n",
        "    y_pred = knn.predict(x_test)\n",
        "    if max_val < accuracy_score(y_test, y_pred): # 가장 높은 정확도를 가질 때의 k 값을 저장해준다.\n",
        "        max_val = accuracy_score(y_test, y_pred)\n",
        "        max_k = i\n",
        "print(max_k)\n",
        "print(max_val)"
      ]
    },
    {
      "cell_type": "code",
      "source": [
        "max_val = 0\n",
        "max_k = 0\n",
        "\n",
        "for i in range(1,10):\n",
        "  knn = KNeighborsClassifier(n_neighbors=i)\n",
        "  knn.fit(x_train, y_train.values.ravel())\n",
        "  y_pred = knn.predict(x_test)\n",
        "  print(\"i = \", i, accuracy_score(y_test, y_pred))\n",
        "  if max_val < accuracy_score(y_test, y_pred):\n",
        "    max_val = accuracy_score(y_test, y_pred)\n",
        "    max_k = i\n",
        "\n",
        "knn = KNeighborsClassifier(n_neighbors=max_k)\n",
        "knn.fit(x_train, y_train.values.ravel())\n",
        "y_pred_max_k = knn.predict(x_test)\n",
        "\n",
        "print(max_k)\n",
        "print(max_val)\n",
        "print(y_pred_max_k)\n",
        "print(y_pred_1)"
      ],
      "metadata": {
        "colab": {
          "base_uri": "https://localhost:8080/"
        },
        "id": "EKyORMdE4apW",
        "outputId": "d56b619a-a578-4561-e2eb-f304bfe3851a"
      },
      "execution_count": 41,
      "outputs": [
        {
          "output_type": "stream",
          "name": "stdout",
          "text": [
            "i =  1 0.8\n",
            "i =  2 0.75\n",
            "i =  3 0.9\n",
            "i =  4 0.9\n",
            "i =  5 0.9\n",
            "i =  6 0.9\n",
            "i =  7 0.9\n",
            "i =  8 0.9\n",
            "i =  9 0.9\n",
            "3\n",
            "0.9\n",
            "['C' 'SG' 'SG' 'C' 'SG' 'SG' 'SG' 'SG' 'C' 'C' 'SG' 'C' 'SG' 'SG' 'SG'\n",
            " 'SG' 'SG' 'C' 'C' 'SG']\n",
            "['C' 'SG' 'SG' 'C' 'SG' 'SG' 'SG' 'SG' 'C' 'C' 'SG' 'C' 'SG' 'SG' 'SG'\n",
            " 'SG' 'SG' 'C' 'C' 'SG']\n"
          ]
        }
      ]
    },
    {
      "cell_type": "code",
      "execution_count": 38,
      "metadata": {
        "colab": {
          "base_uri": "https://localhost:8080/",
          "height": 526
        },
        "id": "fIhFQI2CIfJg",
        "outputId": "edc062d5-16a4-416b-d274-53fc67e4d546"
      },
      "outputs": [
        {
          "output_type": "display_data",
          "data": {
            "text/plain": [
              "<Figure size 640x480 with 1 Axes>"
            ],
            "image/png": "[encoded data removed]"
          },
          "metadata": {}
        }
      ],
      "source": [
        "# (5-3) (결과 시각화) 테스트 데이터 분류 결과 시각화\n",
        "def plot_knn_test(feature, label, test_feature, test_label):\n",
        "    plt.title('kNN_sklearn_')\n",
        "    plt.plot(feature[label==\"SG\"][\"3P\"], feature[label==\"SG\"][\"BLK\"],'o', c=\"blue\", label=\"SG\")#학습데이터 중 SG 데이터를 파란색으로 시각화\n",
        "    plt.plot(feature[label==\"C\"][\"3P\"], feature[label==\"C\"][\"BLK\"],'o', c=\"red\", label=\"C\")#학습데이터 중 C 데이터를 파란색으로 시각화\n",
        "    plt.plot(test_feature[test_label==\"SG\"][\"3P\"], test_feature[test_label==\"SG\"][\"BLK\"],'o', c=\"skyblue\", label=\"SG_test\") #테스트데이터 중 SG 데이터를 하늘색으로 시각화\n",
        "    plt.plot(test_feature[test_label==\"C\"][\"3P\"], test_feature[test_label==\"C\"][\"BLK\"],'o', c=\"orange\", label=\"C_test\")#테스트데이터 중 C 데이터를 오랜지색으로 시각화\n",
        "    plt.tight_layout()\n",
        "    plt.xlabel(\"3P\") #x축 표시\n",
        "    plt.ylabel(\"BLK\")#y축 표시\n",
        "    plt.legend()\n",
        "    plt.show()\n",
        "plot_knn_test(x_train, y_train.values.ravel(), x_test, y_pred_1)"
      ]
    },
    {
      "cell_type": "code",
      "source": [
        "plot_knn_test(x_train, y_train.values.ravel(), x_test, y_pred_max_k)"
      ],
      "metadata": {
        "colab": {
          "base_uri": "https://localhost:8080/",
          "height": 526
        },
        "id": "FXumQw-56YsM",
        "outputId": "ab0f8c21-8e64-4ead-8686-b4135bd00644"
      },
      "execution_count": 36,
      "outputs": [
        {
          "output_type": "display_data",
          "data": {
            "text/plain": [
              "<Figure size 640x480 with 1 Axes>"
            ],
            "image/png": "[encoded data removed]"
          },
          "metadata": {}
        }
      ]
    },
    {
      "cell_type": "markdown",
      "metadata": {
        "id": "7yCywpB26eww"
      },
      "source": [
        "## (두번째 실습) 직접 함수를 구현하는 방법"
      ]
    },
    {
      "cell_type": "markdown",
      "metadata": {
        "id": "h9_txvhZuKNZ"
      },
      "source": [
        "### 수학(math) 라이브러리\n",
        "math 라이브러리는 수학적인 연산을 쉽게 사용할 수 있도록 도와준다.\n",
        "그 중 대표적인 함수 pow, sqrt에 대해서 알아보도록 하자.\n",
        "\n",
        "- pow( 밑, 지수 ) : power의 약자로, 특정 값의 지수 연산을 쉽게 할 수 있도록 도와준다.\n",
        "\n",
        "- sqrt( 값 ) :\n",
        "입력한 값의 제곱근을 구해준다.\n",
        "\n",
        "### 리스트의 정렬\n",
        "- list.sort() : list 내의 값을 오름차순으로 정렬해준다."
      ]
    },
    {
      "cell_type": "code",
      "execution_count": null,
      "metadata": {
        "id": "O06DVJUWpWx-"
      },
      "outputs": [],
      "source": [
        "import math # 수학관련 함수를 사용하기 위해 선언한 라이브러리\n",
        "\n",
        "# (3) (모델 측면) k-최근접이웃 함수 직접 구현하기 (k=1)\n",
        "# (3-1) 유클리드 거리 함수 선언하기\n",
        "def distance(data1, data2): # data1과 data2 사이의 거리를 측정해준다. data의 모든 성분에 대해 연산을 진행한다.\n",
        "  dist = 0\n",
        "  for i in range(len(data1)):\n",
        "    dist += math.pow(data1[i]-data2[i],2) # 각 성분의 값들의 차이를 제곱하여 더해준다.\n",
        "  return math.sqrt(dist) # 모든 성분의 제곱의 합에 제곱근을 취해준다. 유클리디안 거리의 정의를 잘 생각해보자.\n",
        "\n",
        "# (3-2) kNN 알고리즘 구현하기\n",
        "def my_knn(x_train, y_train, x_test, k):\n",
        "\tresult = []\n",
        "\tfor i in range(len(x_test)): #x_test의 수만큼 진행한다. 테스트 데이터가 10개라면 10번 수행\n",
        "\t\tdist_list = [] # 이론에서 구현한 것처럼 모든 테스트 데이터에 대해서 학습 데이터와의 거리를 측정해야한다.\n",
        "\t\tfor j in range(len(x_train)):\n",
        "\t\t\tdist_list.append([distance(x_train[j],x_test[i]), y_train[j]]) # (테스트데이터와 학습데이터의 거리, 학습데이터의 라벨)\n",
        "\t\tdist_list.sort() # 거리가 가까운 순서로 정렬\n",
        "\t\t#리스트에서 sort 함수를 실행 할 시에 내부에 있는 값들을 오름차순으로 정렬하여 인덱스를 부여한다.\n",
        "\t\t#ex. [3, 4, 5, 2, 1] -> [1, 2, 3, 4, 5]\n",
        "\t\t#데이터의 인덱스와 순서가 모두 변화함, 우리가 원하는 것은 테스트 데이터와 거리가 가장 가까운 k개의 데이터기 때문에,\n",
        "\t\t#거리순으로 정렬된 k 개의 데이터를 통해서 SG로 분류할지, C로 분류할지 결정하는것\n",
        "\t\t#ps. 다양한 정렬에 관한 실습은 앞서 배운 numpy 실습 내용을 참고할것\n",
        "\t\tcnt = 0\n",
        "\t\tfor j in range(k): # k개의 데이터만큼 확인\n",
        "\t\t\tif dist_list[j][1]==\"C\": #해당 번째 데이터가 C이면 cnt +=1\n",
        "\t\t\t\tcnt += 1\n",
        "\n",
        "\t\t# C인 데이터의 수 cnt , SG인 데이터의 수 k - cnt\n",
        "\t\tif cnt>(k/2): # K개의 데이터 중 C가 더 많으면 C로, 아니면 SG로 분류\n",
        "\t\t\tresult.append([\"C\"])\n",
        "\t\telse:\n",
        "\t\t\tresult.append([\"SG\"])\n",
        "\treturn result #테스트 데이터에 대해 모든 분류 결과가 반환된다.\n",
        "\n",
        "# (4) (학습 과정) 직접 구현한 함수를 이용하여 알고리즘 수행하기.\n",
        "y_pred_1 = my_knn(x_train.values, y_train.values, x_test.values, 1) # (학습데이터의 특징벡터, 학습데이터의 정답값, 테스트데이터의 특징벡터, K)\n",
        "\n",
        "# (5) (성능 평가) 테스트 데이터를 이용하여 결과에 대한 성능 평가하기.\n",
        "accuracy_score(y_test, y_pred_1)"
      ]
    },
    {
      "cell_type": "code",
      "source": [
        "import math"
      ],
      "metadata": {
        "id": "8yat8q_u7p-G"
      },
      "execution_count": 43,
      "outputs": []
    },
    {
      "cell_type": "code",
      "source": [
        "math.pow(2, 3) #2^3"
      ],
      "metadata": {
        "colab": {
          "base_uri": "https://localhost:8080/"
        },
        "id": "Q-e4DEUW7kYl",
        "outputId": "0c187eae-9901-42cc-b1db-122522c6aa7b"
      },
      "execution_count": 47,
      "outputs": [
        {
          "output_type": "execute_result",
          "data": {
            "text/plain": [
              "8.0"
            ]
          },
          "metadata": {},
          "execution_count": 47
        }
      ]
    },
    {
      "cell_type": "code",
      "source": [
        "import math\n",
        "\n",
        "def distance(data1, data2):\n",
        "  dist = 0\n",
        "  for i in range(len(data1)):\n",
        "    dist += math.pow(data1[i]-data2[i],2)\n",
        "  return math.sqrt(dist)"
      ],
      "metadata": {
        "id": "cvmIwrjL7Ri4"
      },
      "execution_count": 50,
      "outputs": []
    },
    {
      "cell_type": "code",
      "source": [
        "len(x_test)"
      ],
      "metadata": {
        "colab": {
          "base_uri": "https://localhost:8080/"
        },
        "id": "e69q-O7D-Wgx",
        "outputId": "f16031e8-040e-42da-e998-9fce448b225b"
      },
      "execution_count": 56,
      "outputs": [
        {
          "output_type": "execute_result",
          "data": {
            "text/plain": [
              "20"
            ]
          },
          "metadata": {},
          "execution_count": 56
        }
      ]
    },
    {
      "cell_type": "code",
      "source": [
        "def my_knn(x_train, y_train, x_test, k):\n",
        "  result = []\n",
        "  for i in range(len(x_test)):\n",
        "    dist_list = []\n",
        "    for j in range(len(x_train)):\n",
        "      dist_list.append([distance(x_train[j], x_test[i]), y_train[j]])\n",
        "    dist_list.sort()\n",
        "\n",
        "    cnt = 0\n",
        "    for j in range(k):\n",
        "      if dist_list[j][1]==\"C\":\n",
        "        cnt += 1\n",
        "\n",
        "    if cnt > (k/2):\n",
        "      result.append([\"C\"])\n",
        "    else:\n",
        "      result.append([\"SG\"])\n",
        "  return result"
      ],
      "metadata": {
        "id": "D55EU_lp8bjk"
      },
      "execution_count": 51,
      "outputs": []
    },
    {
      "cell_type": "code",
      "source": [
        "y_pred_1 = my_knn(x_train.values, y_train.values, x_test.values, 1)\n",
        "print(y_pred_1)\n",
        "print(len(y_pred_1))"
      ],
      "metadata": {
        "colab": {
          "base_uri": "https://localhost:8080/"
        },
        "id": "LfOXq7fD9w0Y",
        "outputId": "7482ec3f-db30-4a93-a152-57d47247ad50"
      },
      "execution_count": 55,
      "outputs": [
        {
          "output_type": "stream",
          "name": "stdout",
          "text": [
            "[['C'], ['SG'], ['SG'], ['C'], ['SG'], ['SG'], ['SG'], ['C'], ['C'], ['C'], ['SG'], ['C'], ['SG'], ['SG'], ['C'], ['C'], ['SG'], ['C'], ['C'], ['SG']]\n",
            "20\n"
          ]
        }
      ]
    },
    {
      "cell_type": "code",
      "source": [
        "accuracy_score(y_test, y_pred_1)"
      ],
      "metadata": {
        "colab": {
          "base_uri": "https://localhost:8080/"
        },
        "id": "kK-6xNBk-d8G",
        "outputId": "7b90f02b-a5fa-4e18-bc60-d66e41792f58"
      },
      "execution_count": 57,
      "outputs": [
        {
          "output_type": "execute_result",
          "data": {
            "text/plain": [
              "0.75"
            ]
          },
          "metadata": {},
          "execution_count": 57
        }
      ]
    },
    {
      "cell_type": "code",
      "execution_count": null,
      "metadata": {
        "id": "fJYG59SqHYo_"
      },
      "outputs": [],
      "source": [
        "# (5-2) (성능 평가) 최적의 k 찾기\n",
        "max_val = 0\n",
        "max_k = 0\n",
        "for i in range(1,10,2): #1부터 10까지 수를 +2씩 증가시키며(1,3,5,7,9)\n",
        "    y_pred = my_knn(x_train.values, y_train.values, x_test.values, i) # k의 값에 따른 결과값을 확인한다\n",
        "    if max_val < accuracy_score(y_test, y_pred):\n",
        "        max_val = accuracy_score(y_test, y_pred)\n",
        "        max_k = i\n",
        "print(max_k)\n",
        "print(max_val)"
      ]
    },
    {
      "cell_type": "code",
      "source": [
        "max_val = 0\n",
        "max_k = 0\n",
        "\n",
        "for i in range(1,10,2):\n",
        "    y_pred = my_knn(x_train.values, y_train.values, x_test.values, i)\n",
        "    if max_val < accuracy_score(y_test, y_pred):\n",
        "        max_val = accuracy_score(y_test, y_pred)\n",
        "        max_k = i\n",
        "print(max_k)\n",
        "print(max_val)"
      ],
      "metadata": {
        "colab": {
          "base_uri": "https://localhost:8080/"
        },
        "id": "RUnT6BEP-jpa",
        "outputId": "2c595f39-3724-45ce-a511-1e0bc32f6f96"
      },
      "execution_count": 60,
      "outputs": [
        {
          "output_type": "stream",
          "name": "stdout",
          "text": [
            "3\n",
            "0.9\n"
          ]
        }
      ]
    },
    {
      "cell_type": "code",
      "execution_count": 61,
      "metadata": {
        "colab": {
          "base_uri": "https://localhost:8080/",
          "height": 526
        },
        "id": "fGwP3fAWLMAZ",
        "outputId": "d7dbaca9-d942-4df6-eb95-9a80c7397a87"
      },
      "outputs": [
        {
          "output_type": "display_data",
          "data": {
            "text/plain": [
              "<Figure size 640x480 with 1 Axes>"
            ],
            "image/png": "[encoded data removed]"
          },
          "metadata": {}
        }
      ],
      "source": [
        "# (5-3) (결과 시각화) 테스트 데이터 분류 결과 시각화\n",
        "def plot_knn_test(feature, label, test_feature, test_label):\n",
        "    plt.title('kNN_custom')\n",
        "    plt.plot(feature[label==\"SG\"][\"3P\"], feature[label==\"SG\"][\"BLK\"],'o', c=\"blue\", label=\"SG\")#학습데이터 중 SG 데이터를 파란색으로 시각화\n",
        "    plt.plot(feature[label==\"C\"][\"3P\"], feature[label==\"C\"][\"BLK\"],'o', c=\"red\", label=\"C\")#학습데이터 중 C 데이터를 파란색으로 시각화\n",
        "    plt.plot(test_feature[test_label==\"SG\"][\"3P\"], test_feature[test_label==\"SG\"][\"BLK\"],'o', c=\"skyblue\", label=\"SG_test\") #테스트데이터 중 SG 데이터를 하늘색으로 시각화\n",
        "    plt.plot(test_feature[test_label==\"C\"][\"3P\"], test_feature[test_label==\"C\"][\"BLK\"],'o', c=\"orange\", label=\"C_test\")#테스트데이터 중 C 데이터를 오랜지색으로 시각화\n",
        "    plt.tight_layout()\n",
        "    plt.xlabel(\"3P\") #x축 표시\n",
        "    plt.ylabel(\"BLK\")#y축 표시\n",
        "    plt.legend()\n",
        "    plt.show()\n",
        "plot_knn_test(x_train, y_train.values.ravel(), x_test, np.array(y_pred_1).flatten())"
      ]
    },
    {
      "cell_type": "code",
      "source": [],
      "metadata": {
        "id": "TWRlsbP2KHFZ"
      },
      "execution_count": null,
      "outputs": []
    }
  ],
  "metadata": {
    "colab": {
      "provenance": [],
      "include_colab_link": true
    },
    "kernelspec": {
      "display_name": "Python 3 (ipykernel)",
      "language": "python",
      "name": "python3"
    },
    "language_info": {
      "codemirror_mode": {
        "name": "ipython",
        "version": 3
      },
      "file_extension": ".py",
      "mimetype": "text/x-python",
      "name": "python",
      "nbconvert_exporter": "python",
      "pygments_lexer": "ipython3",
      "version": "3.9.12"
    }
  },
  "nbformat": 4,
  "nbformat_minor": 0
}